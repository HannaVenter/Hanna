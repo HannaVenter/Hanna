{
 "cells": [
  {
   "cell_type": "markdown",
   "id": "e0b4e0cc-5cb5-4769-8993-503b082adf17",
   "metadata": {},
   "source": [
    "# Data Science Tool and Ecosystem\n"
   ]
  },
  {
   "attachments": {},
   "cell_type": "markdown",
   "id": "22e514da-b02a-41b4-8bd3-a3989b394578",
   "metadata": {},
   "source": [
    "In this notebook, Data Science Tools and Ecosystems are summarized"
   ]
  },
  {
   "cell_type": "markdown",
   "id": "2d34c8da-3bcd-4db4-9ae5-7d0c15829b0c",
   "metadata": {},
   "source": [
    "**Objectives**\n",
    "+ List popular languages used in Data Science\n",
    "+ List some common libraries used by Data Science\n",
    "+ Name some of the open source Data Science tools used by Data Scientists\n",
    "+ Introduction to some arithmetic operations\n",
    "+ Write a short program to convert minutes into hours"
   ]
  },
  {
   "cell_type": "markdown",
   "id": "fcea41b0-c4e1-48f1-bdb9-511c4ca00b44",
   "metadata": {},
   "source": [
    "## Author\n",
    "Hanna Venter"
   ]
  },
  {
   "cell_type": "markdown",
   "id": "1e585e82-8415-458b-8b25-a5e0316a8952",
   "metadata": {},
   "source": [
    "Some of the popular languages that Data Scientists use, are:\n",
    "1. Python - A general purpose, open source language\n",
    "2. R Language - Free software and the largest repository of statistical knowledge\n",
    "3. SQL - Standard Query Language, useful for structured data, the \"old school\" data science language\n",
    "4. Java\n",
    "5. Scala\n",
    "6. C++\n",
    "7. JavaScript\n",
    "8. Julia"
   ]
  },
  {
   "attachments": {},
   "cell_type": "markdown",
   "id": "905ed43a-9426-4cf2-8b69-4ff5739d3ade",
   "metadata": {},
   "source": [
    "Some of the commonly used libraries that Data Scientists use, are:\n",
    "1. Pandas - Scientific Computing\n",
    "2. Numpy - Scientific Computing\n",
    "3. Matplotlib - Visualization\n",
    "4. Seaborn - Visualization\n",
    "5. Scikit-learn - ML and Deep learning\n",
    "6. Keras - ML and Deep learning\n",
    "7. TensorFlow - Deep learning\n",
    "8. Pytorch - Deep learning (Regression and classification)\n",
    "9. Vegas - A Scala library, for statistical data visualization\n",
    "10. Big DL - A Scala library, for deep learning\n",
    "11. ggplot2 - An R-Language library for data visualization\n",
    "    "
   ]
  },
  {
   "cell_type": "code",
   "execution_count": 15,
   "id": "1e6365fe-e7b5-4f88-8d32-004c419ecf3e",
   "metadata": {},
   "outputs": [],
   "source": [
    "# Some open source development environment tools used in data science:"
   ]
  },
  {
   "cell_type": "markdown",
   "id": "f1cb1f59-77bc-48a2-8fab-5cb6ad2dcd7e",
   "metadata": {},
   "source": [
    "| Data Science Tools |\n",
    "| ------------- |\n",
    "| Jupter IDE |\n",
    "| Spyder |\n",
    "| RStudio |\n",
    "| Anaconda Navigator |"
   ]
  },
  {
   "cell_type": "markdown",
   "id": "b980eaae-7567-4a6a-a849-f2ca2bd543dd",
   "metadata": {},
   "source": [
    "### Below are a few examples of evaluating arithmetic expressions in Python:\n",
    "- 1+2 = 1+2\n",
    "- 1x2 = 1*2\n",
    "- 1-2 = 1-2\n",
    "- 1÷2 = 1/2 \n",
    "- 1^2 = pow(1,2)  OR  1**2\n",
    "- |-2| = abs(-2)\n",
    "- 2(1+2) = 2*(1+2)"
   ]
  },
  {
   "cell_type": "code",
   "execution_count": 30,
   "id": "d9ae01e9-3dac-42d2-af0e-6b7e88610ade",
   "metadata": {},
   "outputs": [
    {
     "data": {
      "text/plain": [
       "17"
      ]
     },
     "execution_count": 30,
     "metadata": {},
     "output_type": "execute_result"
    }
   ],
   "source": [
    "# This is a simple arithmetic expression to multiply, then add integers.\n",
    "(3*4)+5"
   ]
  },
  {
   "cell_type": "code",
   "execution_count": 84,
   "id": "45e0fe59-dfb6-42ac-b523-2f17d7724ee9",
   "metadata": {},
   "outputs": [
    {
     "name": "stdin",
     "output_type": "stream",
     "text": [
      "Enter time in minutes 200\n"
     ]
    },
    {
     "name": "stdout",
     "output_type": "stream",
     "text": [
      "200 minutes is 3.33 hours\n"
     ]
    }
   ],
   "source": [
    "# To convert any amount of minutes to hours, divide by 60\n",
    "x=input(\"Enter time in minutes\")\n",
    "# y is float-type data, that means, a decimal number\n",
    "y=float(x)/60\n",
    "# z is string-type data, that means, words, in order to print output with other string type data\n",
    "# round z to two deimals\n",
    "z=str(round(y,2))\n",
    "# Output gives \"Input\" in minutes equals \"Output\" in hours\n",
    "print(x+\" minutes is \"+z+\" hours\")"
   ]
  },
  {
   "cell_type": "markdown",
   "id": "f5b50826-2aeb-4e60-b5bc-6dea91c258db",
   "metadata": {},
   "source": []
  }
 ],
 "metadata": {
  "kernelspec": {
   "display_name": "Python 3 (ipykernel)",
   "language": "python",
   "name": "python3"
  },
  "language_info": {
   "codemirror_mode": {
    "name": "ipython",
    "version": 3
   },
   "file_extension": ".py",
   "mimetype": "text/x-python",
   "name": "python",
   "nbconvert_exporter": "python",
   "pygments_lexer": "ipython3",
   "version": "3.12.4"
  }
 },
 "nbformat": 4,
 "nbformat_minor": 5
}
